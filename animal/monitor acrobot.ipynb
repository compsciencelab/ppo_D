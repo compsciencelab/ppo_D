{
 "cells": [
  {
   "cell_type": "code",
   "execution_count": null,
   "metadata": {},
   "outputs": [],
   "source": [
    "# from  glob import glob\n",
    "from time import sleep\n",
    "from baselines.bench import load_results\n",
    "from matplotlib import pylab as plt\n",
    "import numpy as np\n",
    "import argparse\n",
    "import os\n",
    "import pandas as pd\n",
    "\n",
    "\n",
    "\n",
    "\n",
    "\n",
    "def get_data(my_dir):\n",
    "    num_good_traj = 0\n",
    "    \n",
    "    exps = glob(my_dir+'*')\n",
    "    d = exps[0]\n",
    "    df = load_results(d)\n",
    "    #df = pd.DataFrame() \n",
    "\n",
    "    df['f']= df['l'].cumsum()/1000000\n",
    "\n",
    "    df['perf']= df['r']\n",
    "    df['perf'].where(df['perf']>0,0,inplace=True)\n",
    "    df['goal'] = df['perf']>0.9  #guess a threadshold\n",
    "\n",
    "    return df\n",
    "\n",
    "\n",
    "my_dir = '/workspace8/gabriele/RUNS/exp_reacher_ppobc_2'\n",
    "df = get_data(my_dir)\n",
    "\n",
    "\n",
    "\n",
    "time_limit = 0\n",
    "fig = plt.figure(clear=True, figsize=(15,9))\n",
    "\n",
    "\n",
    "roll = 1000\n",
    "total_time = df['t'].iloc[-1]\n",
    "total_steps = df['l'].sum()\n",
    "total_episodes = df['r'].size\n",
    "\n",
    "ax = plt.subplot(2, 2, 1)\n",
    "ax.set_title(' {} total time: {:.1f} h FPS {:.1f}'.format('PPO+D REACHER',total_time/3600, total_steps/total_time))\n",
    "df[['f','reward_woD']].rolling(roll).mean().iloc[0:-1:40].plot('f','reward_woD',  ax=ax,label='ppo +bc')\n",
    "\n",
    "ax.set_xlabel('N. steps (M)')\n",
    "ax.set_ylabel('Reward')\n",
    "#plt.xlim((0, 20))\n",
    "ax.grid(True)\n",
    "#ax.legend(loc=4, prop={'size': 10})#\n",
    "ax.legend(bbox_to_anchor=(1.1, 0.6))\n"
   ]
  },
  {
   "cell_type": "code",
   "execution_count": null,
   "metadata": {},
   "outputs": [],
   "source": []
  }
 ],
 "metadata": {
  "kernelspec": {
   "display_name": "Python [conda env:animal] *",
   "language": "python",
   "name": "conda-env-animal-py"
  },
  "language_info": {
   "codemirror_mode": {
    "name": "ipython",
    "version": 3
   },
   "file_extension": ".py",
   "mimetype": "text/x-python",
   "name": "python",
   "nbconvert_exporter": "python",
   "pygments_lexer": "ipython3",
   "version": "3.6.9"
  }
 },
 "nbformat": 4,
 "nbformat_minor": 2
}
