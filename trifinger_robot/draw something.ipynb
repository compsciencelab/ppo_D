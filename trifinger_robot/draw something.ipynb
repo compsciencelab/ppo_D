{
 "cells": [
  {
   "cell_type": "code",
   "execution_count": 3,
   "metadata": {},
   "outputs": [
    {
     "name": "stdout",
     "output_type": "stream",
     "text": [
      "BOX POS [0.08385101 0.00214682 0.03254566]\n",
      "0.01215390463049257 -0.08575782838168547 60.88511112533433\n",
      "GOAL POS [ 0.08309543 -0.09184842  0.08837619]\n",
      "[0.08574786 0.06014798 0.15276312]\n",
      "[ 0.00988153 -0.10327163  0.15277971]\n",
      "[-0.09437662  0.04307816  0.15277971]\n"
     ]
    },
    {
     "data": {
      "image/png": "[encoded data removed]",
      "text/plain": [
       "<Figure size 864x1008 with 2 Axes>"
      ]
     },
     "metadata": {
      "needs_background": "light"
     },
     "output_type": "display_data"
    }
   ],
   "source": [
    "# from  glob import glob\n",
    "from time import sleep\n",
    "from baselines.bench import load_results\n",
    "from matplotlib import pylab as plt\n",
    "import numpy as np\n",
    "import argparse\n",
    "import os\n",
    "import pandas as pd\n",
    "from  glob import glob\n",
    "from matplotlib.gridspec import GridSpec\n",
    "import math\n",
    "\n",
    "state_dict = {'robot_position': np.array([-8.55992742e-03,  1.21459918e+00, -2.25559440e+00,  5.46024435e-04,\n",
    "        1.21814735e+00, -2.26098951e+00,  5.46024435e-04,  1.21814735e+00,\n",
    "       -2.26098951e+00]), 'robot_velocity': np.array([-2.13998186, \n",
    "       -1.78282227,  3.33341258,  0.13650611, -0.89577924,\n",
    "        1.9846363 ,  0.13650611, -0.89577924,  1.9846363 ]), \n",
    "        'robot_tip_positions': np.array([[ 0.08574786,  0.06014798,  0.15276312],\n",
    "       [ 0.00988153, -0.10327163,  0.15277971],\n",
    "       [-0.09437662,  0.04307816,  0.15277971]]), \n",
    "       'object_position': np.array([0.08385101, 0.00214682, 0.03254566]), \n",
    "       'object_orientation': np.array([ 4.70624660e-04, -5.91465649e-04,  \n",
    "       5.06674167e-01,  8.62137296e-01]), 'goal_object_position': \n",
    "       np.array([ 0.08309543, -0.09184842,  0.08837619])}\n",
    "\n",
    "\n",
    " #: Orientation as quaternion (x, y, z, w)\n",
    "\n",
    "def  euler_from_quaternion(x, y, z, w):\n",
    "        \"\"\"\n",
    "        Convert a quaternion into euler angles (roll, pitch, yaw)\n",
    "        roll is rotation around x in radians (counterclockwise)\n",
    "        pitch is rotation around y in radians (counterclockwise)\n",
    "        yaw is rotation around z in radians (counterclockwise)\n",
    "        \"\"\"\n",
    "        t0 = +2.0 * (w * x + y * z)\n",
    "        t1 = +1.0 - 2.0 * (x * x + y * y)\n",
    "        roll_x = math.atan2(t0, t1)\n",
    "     \n",
    "        t2 = +2.0 * (w * y - z * x)\n",
    "        t2 = +1.0 if t2 > +1.0 else t2\n",
    "        t2 = -1.0 if t2 < -1.0 else t2\n",
    "        pitch_y = math.asin(t2)\n",
    "     \n",
    "        t3 = +2.0 * (w * z + x * y)\n",
    "        t4 = +1.0 - 2.0 * (y * y + z * z)\n",
    "        yaw_z = math.atan2(t3, t4)\n",
    "     \n",
    "        return roll_x, pitch_y, yaw_z # in radians\n",
    "    \n",
    "def fig2data ( fig ):\n",
    "    \"\"\"\n",
    "    @brief Convert a Matplotlib figure to a 4D numpy array with RGBA channels and return it\n",
    "    @param fig a matplotlib figure\n",
    "    @return a numpy 3D array of RGBA values\n",
    "    \"\"\"\n",
    "    # draw the renderer\n",
    "    fig.canvas.draw ( )\n",
    " \n",
    "    # Get the RGBA buffer from the figure\n",
    "    w,h = fig.canvas.get_width_height()\n",
    "    buf = np.fromstring ( fig.canvas.tostring_argb(), dtype=np.uint8 )\n",
    "    buf.shape = ( w, h,4 )\n",
    " \n",
    "    # canvas.tostring_argb give pixmap in ARGB mode. Roll the ALPHA channel to have it in RGBA mode\n",
    "    buf = np.roll ( buf, 3, axis = 2 )\n",
    "    return buf\n",
    "\n",
    "def create_image(state_dict):\n",
    "\n",
    "    fig = plt.figure(clear=True, figsize=(12,14))\n",
    "    gs=GridSpec(6,7) # 2 rows, 3 columns\n",
    "\n",
    "\n",
    "\n",
    "\n",
    "    ax1=fig.add_subplot(gs[0:5,:]) # First row, third column\n",
    "    ax2=fig.add_subplot(gs[5:,:])\n",
    "\n",
    "    ax1.set_xticks([])\n",
    "    ax1.set_yticks([])\n",
    "\n",
    "        \n",
    "    box_pos = state_dict['object_position']\n",
    "    print('BOX POS', box_pos)\n",
    "    obj_or = state_dict['object_orientation']\n",
    "    roll_x, pitch_y, yaw_z = euler_from_quaternion(obj_or[0], obj_or[1],obj_or[2],obj_or[3])\n",
    "    print(np.degrees(roll_x), np.degrees(pitch_y),np.degrees(yaw_z))\n",
    "    rectangle = plt.Rectangle(( box_pos[0], box_pos[1]), 0.1, 0.1, fc='black', angle= np.degrees(yaw_z))\n",
    "    ax1.add_patch(rectangle)\n",
    "    \n",
    "    box_pos = state_dict['goal_object_position']\n",
    "    print('GOAL POS', box_pos)\n",
    "    rectangle = plt.Rectangle(( box_pos[0], box_pos[1]), 0.1, 0.1, fc='green')\n",
    "    ax1.add_patch(rectangle)\n",
    "    rectangle = plt.Rectangle(( box_pos[0], box_pos[2]), 0.1, 0.1, fc='green')\n",
    "    ax2.add_patch(rectangle)\n",
    "    \n",
    "    \n",
    "    for ii in range(3):\n",
    "        pos_tip = state_dict['robot_tip_positions'][ii]\n",
    "        print(pos_tip)\n",
    "        ball = plt.Circle((pos_tip[0] ,pos_tip[1]), 0.01, color='r', clip_on=False)\n",
    "        ax1.add_patch(ball)\n",
    "        ball = plt.Circle((pos_tip[0] ,pos_tip[2]), 0.01, color='r', clip_on=False)\n",
    "        ax2.add_patch(ball)\n",
    "    \n",
    "    \n",
    "\n",
    "\n",
    "#     rectangle = plt.Rectangle((X_-2,Y_- 2), 4, 4, fc='blue')\n",
    "#     ax1.add_patch(rectangle)\n",
    "\n",
    "#     rectangle = plt.Rectangle((X_ -2,Y_- 2), 4, 4, fc='blue')\n",
    "#     ax1.add_patch(rectangle)\n",
    "#     rectangle = plt.Rectangle((28 -4,20- 4), 8, 8, fc='pink')\n",
    "#     ax1.add_patch(rectangle)\n",
    "#     rectangle = plt.Rectangle((7.5 -2,20- 2), 4, 4, fc='black')\n",
    "#     ax1.add_patch(rectangle)\n",
    "#     rectangle = plt.Rectangle((22 -2,20 -2), 4, 4, fc='black')\n",
    "#     ax1.add_patch(rectangle)\n",
    "#     ball = plt.Circle((7.5 ,20), 1.3, color='g', clip_on=False)\n",
    "#     ax1.add_patch(ball)\n",
    "\n",
    "\n",
    "    ax1.set_xlim(-1, 1)\n",
    "    ax1.set_ylim(-1, 1)\n",
    "    ax2.set_xlim(-1, 1)\n",
    "    ax2.set_ylim(0, 1)\n",
    "\n",
    "    return fig\n",
    "\n",
    "\n",
    "\n",
    "\n",
    "fig = create_image(state_dict)\n"
   ]
  },
  {
   "cell_type": "code",
   "execution_count": 4,
   "metadata": {},
   "outputs": [
    {
     "name": "stderr",
     "output_type": "stream",
     "text": [
      "/home/gabbo/miniconda3/envs/animal/lib/python3.6/site-packages/ipykernel_launcher.py:62: DeprecationWarning: The binary mode of fromstring is deprecated, as it behaves surprisingly on unicode inputs. Use frombuffer instead\n"
     ]
    },
    {
     "ename": "AttributeError",
     "evalue": "'numpy.ndarray' object has no attribute 'show'",
     "output_type": "error",
     "traceback": [
      "\u001b[0;31m---------------------------------------------------------------------------\u001b[0m",
      "\u001b[0;31mAttributeError\u001b[0m                            Traceback (most recent call last)",
      "\u001b[0;32m<ipython-input-4-ba9a0340f2c2>\u001b[0m in \u001b[0;36m<module>\u001b[0;34m\u001b[0m\n\u001b[0;32m----> 1\u001b[0;31m \u001b[0mfig2data\u001b[0m\u001b[0;34m(\u001b[0m\u001b[0mfig\u001b[0m\u001b[0;34m)\u001b[0m\u001b[0;34m.\u001b[0m\u001b[0mshow\u001b[0m\u001b[0;34m(\u001b[0m\u001b[0;34m)\u001b[0m\u001b[0;34m\u001b[0m\u001b[0;34m\u001b[0m\u001b[0m\n\u001b[0m",
      "\u001b[0;31mAttributeError\u001b[0m: 'numpy.ndarray' object has no attribute 'show'"
     ]
    }
   ],
   "source": [
    "fig2data(fig).show()"
   ]
  },
  {
   "cell_type": "code",
   "execution_count": 7,
   "metadata": {},
   "outputs": [],
   "source": [
    "from PIL import Image\n",
    " \n",
    "def fig2img ( fig ):\n",
    "    \"\"\"\n",
    "    @brief Convert a Matplotlib figure to a PIL Image in RGBA format and return it\n",
    "    @param fig a matplotlib figure\n",
    "    @return a Python Imaging Library ( PIL ) image\n",
    "    \"\"\"\n",
    "    # put the figure pixmap into a numpy array\n",
    "    buf = fig2data ( fig )\n",
    "    w, h, d = buf.shape\n",
    "    return Image.frombytes( \"RGBA\", ( w ,h ), buf.tostring( ) )"
   ]
  },
  {
   "cell_type": "code",
   "execution_count": 13,
   "metadata": {},
   "outputs": [
    {
     "name": "stderr",
     "output_type": "stream",
     "text": [
      "/home/gabbo/miniconda3/envs/animal/lib/python3.6/site-packages/ipykernel_launcher.py:62: DeprecationWarning: The binary mode of fromstring is deprecated, as it behaves surprisingly on unicode inputs. Use frombuffer instead\n",
      "/home/gabbo/miniconda3/envs/animal/lib/python3.6/site-packages/ipykernel_launcher.py:12: DeprecationWarning: tostring() is deprecated. Use tobytes() instead.\n",
      "  if sys.path[0] == '':\n"
     ]
    }
   ],
   "source": [
    "an_image = fig2img(fig)\n",
    "image_sequence = an_image.getdata()\n",
    "\n",
    "image_array = np.array(image_sequence)"
   ]
  },
  {
   "cell_type": "code",
   "execution_count": 12,
   "metadata": {},
   "outputs": [
    {
     "data": {
      "text/plain": [
       "<ImagingCore at 0x7f7dcab55ed0>"
      ]
     },
     "execution_count": 12,
     "metadata": {},
     "output_type": "execute_result"
    }
   ],
   "source": [
    "image_sequence"
   ]
  },
  {
   "cell_type": "code",
   "execution_count": 2,
   "metadata": {},
   "outputs": [],
   "source": [
    "import skimage.measure\n"
   ]
  },
  {
   "cell_type": "code",
   "execution_count": 3,
   "metadata": {},
   "outputs": [
    {
     "name": "stderr",
     "output_type": "stream",
     "text": [
      "/home/gabbo/miniconda3/envs/animal/lib/python3.6/site-packages/ipykernel_launcher.py:62: DeprecationWarning: The binary mode of fromstring is deprecated, as it behaves surprisingly on unicode inputs. Use frombuffer instead\n"
     ]
    }
   ],
   "source": [
    "image_tensor = skimage.measure.block_reduce(fig2data(fig), (1,1,1), np.max)"
   ]
  },
  {
   "cell_type": "code",
   "execution_count": 4,
   "metadata": {},
   "outputs": [
    {
     "data": {
      "text/plain": [
       "(864, 1008, 4)"
      ]
     },
     "execution_count": 4,
     "metadata": {},
     "output_type": "execute_result"
    }
   ],
   "source": [
    "image_tensor.shape"
   ]
  },
  {
   "cell_type": "code",
   "execution_count": 5,
   "metadata": {},
   "outputs": [
    {
     "name": "stderr",
     "output_type": "stream",
     "text": [
      "/home/gabbo/miniconda3/envs/animal/lib/python3.6/site-packages/ipykernel_launcher.py:62: DeprecationWarning: The binary mode of fromstring is deprecated, as it behaves surprisingly on unicode inputs. Use frombuffer instead\n"
     ]
    },
    {
     "data": {
      "text/plain": [
       "<matplotlib.image.AxesImage at 0x7fd7c8c61b70>"
      ]
     },
     "execution_count": 5,
     "metadata": {},
     "output_type": "execute_result"
    },
    {
     "data": {
      "image/png": "[encoded data removed]",
      "text/plain": [
       "<Figure size 432x288 with 1 Axes>"
      ]
     },
     "metadata": {
      "needs_background": "light"
     },
     "output_type": "display_data"
    }
   ],
   "source": [
    "plt.imshow(  np.transpose(fig2data(fig), (0, 1, 2))  )"
   ]
  },
  {
   "cell_type": "code",
   "execution_count": null,
   "metadata": {},
   "outputs": [],
   "source": []
  }
 ],
 "metadata": {
  "kernelspec": {
   "display_name": "Python [conda env:animal] *",
   "language": "python",
   "name": "conda-env-animal-py"
  },
  "language_info": {
   "codemirror_mode": {
    "name": "ipython",
    "version": 3
   },
   "file_extension": ".py",
   "mimetype": "text/x-python",
   "name": "python",
   "nbconvert_exporter": "python",
   "pygments_lexer": "ipython3",
   "version": "3.6.9"
  }
 },
 "nbformat": 4,
 "nbformat_minor": 4
}
